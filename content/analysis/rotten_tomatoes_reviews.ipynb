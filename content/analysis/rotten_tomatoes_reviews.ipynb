{
 "cells": [
  {
   "cell_type": "markdown",
   "metadata": {},
   "source": [
    "- title: Rotten Tomatoes Reviews\n",
    "- date: 2019-11-26 21:00\n",
    "- category: analysis\n",
    "- tags: exploratory data analysis\n",
    "- slug: rotten-tomatoes-reviews\n",
    "- authors: Robin Rheem\n",
    "- summary: An exploratory data analysis with the rotten tomatoes reviews! Just for learning!"
   ]
  },
  {
   "cell_type": "markdown",
   "metadata": {},
   "source": [
    "# Rotten Tomatoes Reviews\n",
    "Just doing a nice analysis for these rotten tomatoes reviews.\n",
    "I've always wanted to have a go with writing a data science blog and I'm starting it from this dataset.\n",
    "I got it from [here](https://drive.google.com/file/d/1w1TsJB-gmIkZ28d1j7sf1sqcPmHXw352/view) so try it out!"
   ]
  },
  {
   "cell_type": "code",
   "execution_count": 1,
   "metadata": {},
   "outputs": [
    {
     "name": "stdout",
     "output_type": "stream",
     "text": [
      "Hello World\n"
     ]
    }
   ],
   "source": [
    "print(\"Hello World\")"
   ]
  }
 ],
 "metadata": {
  "kernelspec": {
   "display_name": "Python 3",
   "language": "python",
   "name": "python3"
  },
  "language_info": {
   "codemirror_mode": {
    "name": "ipython",
    "version": 3
   },
   "file_extension": ".py",
   "mimetype": "text/x-python",
   "name": "python",
   "nbconvert_exporter": "python",
   "pygments_lexer": "ipython3",
   "version": "3.6.8"
  }
 },
 "nbformat": 4,
 "nbformat_minor": 2
}
