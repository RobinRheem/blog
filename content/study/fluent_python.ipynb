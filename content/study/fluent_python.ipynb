{
 "cells": [
  {
   "cell_type": "markdown",
   "metadata": {},
   "source": [
    "- title: Fluent Python\n",
    "- date: 2020-01-03 19:16\n",
    "- category: study\n",
    "- tags: study\n",
    "- slug: fluent-python\n",
    "- authors: Robin Rheem\n",
    "- summary: Study notes for the book `Fluent Python`"
   ]
  },
  {
   "cell_type": "markdown",
   "metadata": {
    "colab_type": "text",
    "id": "VVkPyiEz8NZr"
   },
   "source": [
    "# Fluent Python\n",
    "The book has six parts.\n",
    "\n",
    "1. Prologue\n",
    "2. Data Structures\n",
    "3. Functions as Objects\n",
    "4. Object-Oriented Idioms\n",
    "5. Control Flow\n",
    "6. Metaprogramming\n",
    "\n",
    "Data structures of what Python gives is something that I have to put in my head all the time. I always need to think of the type of data that I'm manipulating with. The space and time problem is always upon us. Picking the right data structure is one of the most important things to solve the time and space problem.\n",
    "\n",
    "I think functions as objects will teach me functional programming. Passing functions around, doing something with those functions will actually be a nice foundation of functional programming. \n",
    "\n",
    "Object-Oriented idioms will teach me OOP in Python I guess.\n",
    "\n",
    "Control flow? I think this part it'll give me tips and tricks on how to make cleaner code with control flow.\n",
    "\n",
    "Metaprogramming is the thing that I'm really excited about. Code making code! Hope I get the hand of this and get max productivity. Hope I could make a framework out of it!"
   ]
  },
  {
   "cell_type": "markdown",
   "metadata": {
    "colab_type": "text",
    "id": "j-bjsyqe8SkO"
   },
   "source": [
    "# The Python Data Model\n",
    "Think of it as a framework. If you implement some special methods, that data model will be able to use some special Python syntax. Like accessing an array type of syntax if you implement the `__get_item__` method. By following this rule, you can implement, support, and interact with basic language constructs such as:\n",
    "\n",
    "- Iteration\n",
    "- Collections\n",
    "- Attribute access\n",
    "- Operator overloading\n",
    "- Function and method invocation\n",
    "- Object creation and destruction\n",
    "- String representation and formatting\n",
    "- Managed contexts (i.e., `with` blocks)\n",
    "\n",
    "Magic and Dunder: Magic method == slang for special method. Specific special method, Dunder(double underscore) {method_name}.\n"
   ]
  },
  {
   "cell_type": "markdown",
   "metadata": {
    "colab_type": "text",
    "id": "NQAV_UeT8gGs"
   },
   "source": [
    "## A Pythonic Card Deck\n",
    "Demonstrating the power of implementing `__getitem__` and `__len__`."
   ]
  },
  {
   "cell_type": "code",
   "execution_count": 0,
   "metadata": {
    "colab": {},
    "colab_type": "code",
    "id": "Nll_m0DC8wwW"
   },
   "outputs": [],
   "source": [
    "import collections\n",
    "\n",
    "Card = collections.namedtuple('Card', ['rank', 'suit'])\n",
    "\n",
    "\n",
    "class FrenchDeck:\n",
    "    ranks = [str(n) for n in range(2, 11)] + list('JQKA')\n",
    "    suits = 'spades diamonds clubs hearts'.split()\n",
    "\n",
    "    def __init__(self):\n",
    "        self._cards = [Card(rank, suit) for suit in self.suits\n",
    "                                        for rank in self.ranks]\n",
    "\n",
    "    def __len__(self):\n",
    "        return len(self._cards)\n",
    "\n",
    "    def __getitem__(self, position):\n",
    "        return self._cards[position]"
   ]
  },
  {
   "cell_type": "code",
   "execution_count": 2,
   "metadata": {
    "colab": {
     "base_uri": "https://localhost:8080/",
     "height": 34
    },
    "colab_type": "code",
    "executionInfo": {
     "elapsed": 476,
     "status": "ok",
     "timestamp": 1577510689486,
     "user": {
      "displayName": "Robin Rheem",
      "photoUrl": "https://lh3.googleusercontent.com/a-/AAuE7mAHig3o5dRvy9IyLV9m_-ETqSwl8FTRrj4BX52C=s64",
      "userId": "02346832036302226392"
     },
     "user_tz": -540
    },
    "id": "ueZagVJf9qIl",
    "outputId": "1c6e0f56-f825-4091-fb92-cc0a4573b8af"
   },
   "outputs": [
    {
     "data": {
      "text/plain": [
       "Card(rank='7', suit='diamonds')"
      ]
     },
     "execution_count": 2,
     "metadata": {
      "tags": []
     },
     "output_type": "execute_result"
    }
   ],
   "source": [
    "beer_card = Card('7', 'diamonds')\n",
    "beer_card"
   ]
  },
  {
   "cell_type": "code",
   "execution_count": 3,
   "metadata": {
    "colab": {
     "base_uri": "https://localhost:8080/",
     "height": 34
    },
    "colab_type": "code",
    "executionInfo": {
     "elapsed": 614,
     "status": "ok",
     "timestamp": 1577510738747,
     "user": {
      "displayName": "Robin Rheem",
      "photoUrl": "https://lh3.googleusercontent.com/a-/AAuE7mAHig3o5dRvy9IyLV9m_-ETqSwl8FTRrj4BX52C=s64",
      "userId": "02346832036302226392"
     },
     "user_tz": -540
    },
    "id": "TGVM_JkA93mK",
    "outputId": "5784e5e1-6e95-4198-8f2b-543327f52a13"
   },
   "outputs": [
    {
     "data": {
      "text/plain": [
       "52"
      ]
     },
     "execution_count": 3,
     "metadata": {
      "tags": []
     },
     "output_type": "execute_result"
    }
   ],
   "source": [
    "deck = FrenchDeck()\n",
    "len(deck)  # __len__ implementation!"
   ]
  },
  {
   "cell_type": "code",
   "execution_count": 5,
   "metadata": {
    "colab": {
     "base_uri": "https://localhost:8080/",
     "height": 34
    },
    "colab_type": "code",
    "executionInfo": {
     "elapsed": 912,
     "status": "ok",
     "timestamp": 1577510877830,
     "user": {
      "displayName": "Robin Rheem",
      "photoUrl": "https://lh3.googleusercontent.com/a-/AAuE7mAHig3o5dRvy9IyLV9m_-ETqSwl8FTRrj4BX52C=s64",
      "userId": "02346832036302226392"
     },
     "user_tz": -540
    },
    "id": "_rWTG8xI-YEw",
    "outputId": "95b9aec5-cb68-4beb-eb7f-53a7b60c01c9"
   },
   "outputs": [
    {
     "data": {
      "text/plain": [
       "Card(rank='A', suit='hearts')"
      ]
     },
     "execution_count": 5,
     "metadata": {
      "tags": []
     },
     "output_type": "execute_result"
    }
   ],
   "source": [
    "deck[0]\n",
    "deck[-1]  # __getitem__ makes this possible!"
   ]
  },
  {
   "cell_type": "code",
   "execution_count": 6,
   "metadata": {
    "colab": {
     "base_uri": "https://localhost:8080/",
     "height": 34
    },
    "colab_type": "code",
    "executionInfo": {
     "elapsed": 722,
     "status": "ok",
     "timestamp": 1577510915387,
     "user": {
      "displayName": "Robin Rheem",
      "photoUrl": "https://lh3.googleusercontent.com/a-/AAuE7mAHig3o5dRvy9IyLV9m_-ETqSwl8FTRrj4BX52C=s64",
      "userId": "02346832036302226392"
     },
     "user_tz": -540
    },
    "id": "kFZZ_Grv-hA_",
    "outputId": "963635ac-52e4-4521-cf2a-874a30231921"
   },
   "outputs": [
    {
     "data": {
      "text/plain": [
       "Card(rank='3', suit='spades')"
      ]
     },
     "execution_count": 6,
     "metadata": {
      "tags": []
     },
     "output_type": "execute_result"
    }
   ],
   "source": [
    "from random import choice\n",
    "\n",
    "choice(deck)  # Random choice! If the __getitem__ is implemented, it can do this."
   ]
  },
  {
   "cell_type": "markdown",
   "metadata": {
    "colab_type": "text",
    "id": "w2keJAvV-vTP"
   },
   "source": [
    "Let's see the advantages of this approach.\n",
    "* The users of your classes don't have to memorize arbitrary method names for standard operations(\"How to get the number of items? Is it `.size()`, `.length()`, or what?\").\n",
    "* It's easier to benefit from the rich Python standard library and avoid reinventing the wheel, like the `random.choice` function. \n",
    "\n",
    "Hmm ... interesting. Leveraging the standard library is something that I would really love to do. I never really thought of using the fundamental language constructs, and I always tend to just use libraries. When I saw gunicorn, it was really a new world open becaues it didn't even use anything. They just implemented that high-performant WSGI web server with just the Python standard library. I want to be like that too!"
   ]
  },
  {
   "cell_type": "code",
   "execution_count": 7,
   "metadata": {
    "colab": {
     "base_uri": "https://localhost:8080/",
     "height": 68
    },
    "colab_type": "code",
    "executionInfo": {
     "elapsed": 679,
     "status": "ok",
     "timestamp": 1577511216014,
     "user": {
      "displayName": "Robin Rheem",
      "photoUrl": "https://lh3.googleusercontent.com/a-/AAuE7mAHig3o5dRvy9IyLV9m_-ETqSwl8FTRrj4BX52C=s64",
      "userId": "02346832036302226392"
     },
     "user_tz": -540
    },
    "id": "fYg59clU_tII",
    "outputId": "04c47afe-d5e4-41c8-d092-5e75653ff2c0"
   },
   "outputs": [
    {
     "data": {
      "text/plain": [
       "[Card(rank='2', suit='spades'),\n",
       " Card(rank='3', suit='spades'),\n",
       " Card(rank='4', suit='spades')]"
      ]
     },
     "execution_count": 7,
     "metadata": {
      "tags": []
     },
     "output_type": "execute_result"
    }
   ],
   "source": [
    "deck[:3]  # Automatically supports slicing because of __getitem__!"
   ]
  },
  {
   "cell_type": "code",
   "execution_count": 0,
   "metadata": {
    "colab": {},
    "colab_type": "code",
    "id": "2B3TqurB_0jB"
   },
   "outputs": [],
   "source": [
    "for card in deck:  # doctest: +ELLIPSIS\n",
    "    print(card)  # Can't believe that __getitem__ makes it iterable."
   ]
  },
  {
   "cell_type": "code",
   "execution_count": 0,
   "metadata": {
    "colab": {},
    "colab_type": "code",
    "id": "Wu2Sr8K0ADYm"
   },
   "outputs": [],
   "source": [
    "for card in reversed(deck):  # doctest: +ELLIPSIS\n",
    "    print(card)  # Didn't know you could reverse it this easily!"
   ]
  },
  {
   "cell_type": "markdown",
   "metadata": {
    "colab_type": "text",
    "id": "gruIoH8vAUcq"
   },
   "source": [
    "ELLIPSIS in Doctests.\n",
    "\n",
    "This will let us be able to pass the doctest with (...) if there're a lot of things to print."
   ]
  },
  {
   "cell_type": "code",
   "execution_count": 10,
   "metadata": {
    "colab": {
     "base_uri": "https://localhost:8080/",
     "height": 34
    },
    "colab_type": "code",
    "executionInfo": {
     "elapsed": 610,
     "status": "ok",
     "timestamp": 1577511487332,
     "user": {
      "displayName": "Robin Rheem",
      "photoUrl": "https://lh3.googleusercontent.com/a-/AAuE7mAHig3o5dRvy9IyLV9m_-ETqSwl8FTRrj4BX52C=s64",
      "userId": "02346832036302226392"
     },
     "user_tz": -540
    },
    "id": "u1sJzMn3AuUT",
    "outputId": "d0137cb5-8001-42db-d3e3-6501d30603a0"
   },
   "outputs": [
    {
     "data": {
      "text/plain": [
       "True"
      ]
     },
     "execution_count": 10,
     "metadata": {
      "tags": []
     },
     "output_type": "execute_result"
    }
   ],
   "source": [
    "Card('Q', 'hearts') in deck  # The in keyword works because it's iterable!"
   ]
  },
  {
   "cell_type": "code",
   "execution_count": 0,
   "metadata": {
    "colab": {},
    "colab_type": "code",
    "id": "JPTpjzLLA2wJ"
   },
   "outputs": [],
   "source": [
    "suit_values = dict(spades=3, hearts=2, diamonds=1, clubs=0)\n",
    "\n",
    "def spades_high(card):\n",
    "    rank_value = FrenchDeck.ranks.index(card.rank)\n",
    "    return rank_value * len(suit_values) + suit_values[card.suit]\n",
    "\n",
    "\n",
    "for card in sorted(deck, key=spades_high):\n",
    "    print(card)  # Sorting!"
   ]
  },
  {
   "cell_type": "markdown",
   "metadata": {
    "colab_type": "text",
    "id": "iP86Nq7uBnnQ"
   },
   "source": [
    "Shuffling can be implemented with `__setitem__`, but that'll be at Chapter 11!"
   ]
  },
  {
   "cell_type": "markdown",
   "metadata": {
    "colab_type": "text",
    "id": "Vxww5P54BtXU"
   },
   "source": [
    "## How Special Methods Are Used\n",
    "Special methods are supposed to be called by the interpretter. Also, if you're going to call them, it's best to call them when you're metaprogramming since it means that you're programming an interpreter of some kind. \n",
    " Remember to call the build-in methods instead of calling them because they're faster.\n"
   ]
  },
  {
   "cell_type": "markdown",
   "metadata": {
    "colab_type": "text",
    "id": "jQ9BjExiLS5Z"
   },
   "source": [
    "### Emulating Numeric Types\n",
    "In Python, the `+` operator can be overrided. I saw this in Scala, but couldn't see it in Kotlin. The ability to override operators is actually a great way to implement mathematical functions. No wonder Scala was sort of big in the big data era."
   ]
  },
  {
   "cell_type": "code",
   "execution_count": 3,
   "metadata": {
    "colab": {
     "base_uri": "https://localhost:8080/",
     "height": 85
    },
    "colab_type": "code",
    "executionInfo": {
     "elapsed": 615,
     "status": "ok",
     "timestamp": 1577749711224,
     "user": {
      "displayName": "Robin Rheem",
      "photoUrl": "https://lh3.googleusercontent.com/a-/AAuE7mAHig3o5dRvy9IyLV9m_-ETqSwl8FTRrj4BX52C=s64",
      "userId": "02346832036302226392"
     },
     "user_tz": -540
    },
    "id": "kMXqa7olMjCQ",
    "outputId": "30b2ce61-1f55-4290-8fba-3c20a5155153"
   },
   "outputs": [
    {
     "name": "stdout",
     "output_type": "stream",
     "text": [
      "Vector(4, 5)\n",
      "5.0\n",
      "Vector(9, 12)\n",
      "15.0\n"
     ]
    }
   ],
   "source": [
    "from math import hypot\n",
    "\n",
    "class Vector:\n",
    "    def __init__(self, x=0, y=0):\n",
    "        self.x = x\n",
    "        self.y = y\n",
    "\n",
    "    def __repr__(self):\n",
    "        return f'Vector({self.x}, {self.y})'\n",
    "\n",
    "    def __abs__(self):\n",
    "        return hypot(self.x, self.y)\n",
    "\n",
    "    def __bool__(self):\n",
    "        return bool(abs(self))\n",
    "    \n",
    "    def __add__(self, other):\n",
    "        x = self.x + other.x\n",
    "        y = self.y + other.y\n",
    "        return Vector(x, y)\n",
    "\n",
    "    def __mul__(self, scalar):\n",
    "        return Vector(self.x * scalar, self.y * scalar)\n",
    "\n",
    "\n",
    "# Addition!\n",
    "v1 = Vector(2, 4)\n",
    "v2 = Vector(2, 1)\n",
    "print(v1 + v2)\n",
    "\n",
    "# Absolute? For complex numbers\n",
    "v = Vector(3, 4)\n",
    "print(abs(v))\n",
    "\n",
    "# Multiply with scalar value\n",
    "print(v * 3)\n",
    "# Print absolute\n",
    "print(abs(v * 3))"
   ]
  },
  {
   "cell_type": "markdown",
   "metadata": {
    "colab_type": "text",
    "id": "PFlpU_JWNomj"
   },
   "source": [
    "### String Representation\n",
    "The `__repr__` method actually gives a string representation of the object. If there's no representation, we'll be able to see the object address. Or maybe hash code or something. \n",
    " It's best to look like the constructor. It'll be easy to reconstruct with that representation. Matching the source code is important! \n",
    " `__repr__` is for developers and `__str__` is for customers."
   ]
  },
  {
   "cell_type": "markdown",
   "metadata": {
    "colab_type": "text",
    "id": "3TMcmKYiPuxz"
   },
   "source": [
    "### Arithmetic Operators\n",
    "Create and return new objects than just change the properties. Don't mutate, just make it immutable. That's the important thing."
   ]
  },
  {
   "cell_type": "markdown",
   "metadata": {
    "colab_type": "text",
    "id": "lKIOZJzjQCBC"
   },
   "source": [
    "### Boolean Value of a Custom Type\n",
    "The `__len__`, `__bool__`, things that go into `if`, `while`, `or`, `and`, `not`, determining whether it's truthy or falsey."
   ]
  },
  {
   "cell_type": "markdown",
   "metadata": {
    "colab_type": "text",
    "id": "a4W-hFCyT_PK"
   },
   "source": [
    "## Overview of Special Methods\n",
    "The Python Language Reference has 83 method names and 43 of them implement arithmetic, bitwise, and comparison operators."
   ]
  },
  {
   "cell_type": "markdown",
   "metadata": {},
   "source": [
    "## Why len Is Not a Method\n",
    "It's best to treat these special dunder methods as unary operators. They also operate in special ways too. Like calling the native CPython code for getting the length of a list."
   ]
  },
  {
   "cell_type": "markdown",
   "metadata": {},
   "source": [
    "## Chapter Summary\n",
    "The biggest takeaway of this chapter is the Python data model. It defines what Pythonic means. Those special dunder methods leads us to call unary operators on the model and to have maximum practicality. Whatever we call len, will give the length of the model."
   ]
  },
  {
   "cell_type": "markdown",
   "metadata": {},
   "source": [
    "## Further Reading\n",
    "* Data Model chapter of The Python Language Reference\n",
    "* Python in a Nutshell, 2nd Edition\n",
    "* Python Essential Reference, 4th Edition\n",
    "* Python Cookbook, 3rd Edition\n",
    "* The Art of the Metaobject Protocol"
   ]
  },
  {
   "cell_type": "markdown",
   "metadata": {},
   "source": [
    "# An Array of Sequences\n",
    "Didn't know texts, lists, and tables together were called trains `[...]`. Guido also already was doing a 10-year research project that was designing a programming environment for beginners. No wonder all the 'Pythonic' stuff came from! It was a language called ABC!"
   ]
  },
  {
   "cell_type": "markdown",
   "metadata": {},
   "source": [
    "## Overview of Built-In Sequences"
   ]
  }
 ],
 "metadata": {
  "colab": {
   "name": "fluent_python.ipynb",
   "provenance": []
  },
  "kernelspec": {
   "display_name": "Python 3",
   "language": "python",
   "name": "python3"
  },
  "language_info": {
   "codemirror_mode": {
    "name": "ipython",
    "version": 3
   },
   "file_extension": ".py",
   "mimetype": "text/x-python",
   "name": "python",
   "nbconvert_exporter": "python",
   "pygments_lexer": "ipython3",
   "version": "3.8.0"
  }
 },
 "nbformat": 4,
 "nbformat_minor": 1
}
